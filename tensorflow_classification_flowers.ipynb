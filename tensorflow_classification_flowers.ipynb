{
  "cells": [
    {
      "cell_type": "code",
      "execution_count": null,
      "metadata": {
        "id": "Kfcv0kJh6Cyt"
      },
      "outputs": [],
      "source": [
        "import matplotlib.pyplot as plt\n",
        "import numpy as np\n",
        "import PIL\n",
        "import tensorflow as tf\n",
        "import pathlib\n",
        "from tensorflow import keras\n",
        "from tensorflow.keras import layers\n",
        "from tensorflow.keras.models import Sequential\n",
        "import os"
      ]
    },
    {
      "cell_type": "markdown",
      "metadata": {
        "id": "Oe1uXjp06Pn2"
      },
      "source": [
        "Downloading the dataset with flowers (divided in folders):"
      ]
    },
    {
      "cell_type": "code",
      "execution_count": 5,
      "metadata": {
        "colab": {
          "base_uri": "https://localhost:8080/"
        },
        "id": "HD1qslzF6N4u",
        "outputId": "8969579d-3093-41d8-d7e5-88599628c885"
      },
      "outputs": [
        {
          "name": "stdout",
          "output_type": "stream",
          "text": [
            "Downloading data from https://storage.googleapis.com/download.tensorflow.org/example_images/flower_photos.tgz\n",
            "228813984/228813984 [==============================] - 2s 0us/step\n",
            "Number of images: 3670\n"
          ]
        }
      ],
      "source": [
        "dataset_url = \"https://storage.googleapis.com/download.tensorflow.org/example_images/flower_photos.tgz\"\n",
        "save_dir = '/datasets/'\n",
        "os.makedirs(save_dir, exist_ok=True)\n",
        "dataset_dir = os.path.join(save_dir, 'flower_photos')\n",
        "\n",
        "if not os.path.exists(dataset_dir):\n",
        "    # If it doesn't exist, download and extract the dataset\n",
        "    dataset_tar = tf.keras.utils.get_file('flower_photos.tar', origin=dataset_url, extract=True)\n",
        "    dataset_dir = pathlib.Path(dataset_tar).with_suffix('').resolve()\n",
        "    \n",
        "    # Move the extracted dataset to the desired save directory\n",
        "    os.rename(dataset_dir, os.path.join(save_dir, 'flower_photos'))\n",
        "    dataset_dir = os.path.join(save_dir, 'flower_photos')\n",
        "\n",
        "# dataset_dir = pathlib.Path('flower_photos/')\n",
        "\n",
        "# dataset_url = \"https://storage.googleapis.com/download.tensorflow.org/example_images/flower_photos.tgz\"\n",
        "# dataset_dir = tf.keras.utils.get_file('flower_photos.tar', origin=dataset_url, extract=True)\n",
        "# dataset_dir = pathlib.Path(dataset_dir).with_suffix('')\n",
        "\n",
        "print(f\"Number of images:\", len(list(dataset_dir.glob(\"*/*.jpg\"))))"
      ]
    },
    {
      "cell_type": "markdown",
      "metadata": {
        "id": "pw95HCWZ6ryl"
      },
      "source": [
        "Splitting the dataset in training and validation subsets:"
      ]
    },
    {
      "cell_type": "code",
      "execution_count": 6,
      "metadata": {
        "colab": {
          "base_uri": "https://localhost:8080/"
        },
        "id": "zYJIJnNQ6bCA",
        "outputId": "85f0df64-490c-403c-835b-9d58d650c60b"
      },
      "outputs": [
        {
          "name": "stdout",
          "output_type": "stream",
          "text": [
            "Found 3670 files belonging to 5 classes.\n",
            "Using 2936 files for training.\n",
            "Found 3670 files belonging to 5 classes.\n",
            "Using 734 files for validation.\n",
            "Class names: ['daisy', 'dandelion', 'roses', 'sunflowers', 'tulips']\n"
          ]
        }
      ],
      "source": [
        "batch_size = 32 # This is the Number of images processed at once. More pictures = more perfomance needed + faster training + lower model precision\n",
        "img_width = 180\n",
        "img_height = 180\n",
        "\n",
        "train_ds = tf.keras.utils.image_dataset_from_directory(\n",
        "    dataset_dir,\n",
        "\tvalidation_split=0.2,\n",
        "\tsubset=\"training\",\n",
        "\tseed=1337,\n",
        "\timage_size=(img_height, img_width),\n",
        "\tbatch_size=batch_size\n",
        ")\n",
        "\n",
        "val_ds = tf.keras.utils.image_dataset_from_directory(\n",
        "\tdataset_dir,\n",
        "\tvalidation_split=0.2,\n",
        "\tsubset=\"validation\",\n",
        "\tseed=1337,\n",
        "\timage_size=(img_height, img_width),\n",
        "\tbatch_size=batch_size\n",
        ")\n",
        "\n",
        "class_names = train_ds.class_names\n",
        "print(f\"Class names: {class_names}\")\n"
      ]
    },
    {
      "cell_type": "markdown",
      "metadata": {
        "id": "alOcAEOM6znr"
      },
      "source": [
        "Tensorflow recommend to cache the dataset elements:"
      ]
    },
    {
      "cell_type": "code",
      "execution_count": 7,
      "metadata": {
        "id": "Yz05tTL163e7"
      },
      "outputs": [],
      "source": [
        "AUTOTUNE = tf.data.AUTOTUNE\n",
        "train_ds = train_ds.cache().shuffle(1000).prefetch(buffer_size=AUTOTUNE)\n",
        "val_ds = val_ds.cache().prefetch(buffer_size=AUTOTUNE)"
      ]
    },
    {
      "cell_type": "markdown",
      "metadata": {
        "id": "putWFun08l6i"
      },
      "source": [
        "### Model creation.\n",
        "We will use simple sequential NN model. Since the dataset is pretty small, we use augmentation to extend it."
      ]
    },
    {
      "cell_type": "code",
      "execution_count": 8,
      "metadata": {
        "id": "a-Si9vqP85a9"
      },
      "outputs": [],
      "source": [
        "num_classes = len(class_names)\n",
        "model = Sequential([\n",
        "  # Preprocessing layer (rescale values to be between 0 and 1):\n",
        "\tlayers.experimental.preprocessing.Rescaling(1./255, input_shape=(img_height, img_width, 3)),\n",
        "\n",
        "\t# Augmentation:\n",
        "\tlayers.experimental.preprocessing.RandomFlip(\"horizontal\", input_shape=(img_height, img_width, 3)),\n",
        "\tlayers.experimental.preprocessing.RandomRotation(0.1),\n",
        "\tlayers.experimental.preprocessing.RandomZoom(0.1),\n",
        "\tlayers.experimental.preprocessing.RandomContrast(0.2),\n",
        "\n",
        "  # Main layers\n",
        "\tlayers.Conv2D(16, 3, padding='same', activation='relu'), # layer that contains filters\n",
        "\tlayers.MaxPooling2D(), # downsampling layer that reduces the dimensionality of each feature map while retaining the most important information\n",
        "\n",
        "\tlayers.Conv2D(32, 3, padding='same', activation='relu'),\n",
        "\tlayers.MaxPooling2D(),\n",
        "\n",
        "\tlayers.Conv2D(64, 3, padding='same', activation='relu'),\n",
        "\tlayers.MaxPooling2D(),\n",
        "\n",
        "\t# Regularization:\n",
        "  layers.Dropout(0.2),\n",
        "\n",
        "\tlayers.Flatten(),\n",
        "\tlayers.Dense(128, activation='relu'),\n",
        "\tlayers.Dense(num_classes)\n",
        "])"
      ]
    },
    {
      "cell_type": "markdown",
      "metadata": {
        "id": "CtSYBxF89mGR"
      },
      "source": [
        "Model compilation:"
      ]
    },
    {
      "cell_type": "code",
      "execution_count": 9,
      "metadata": {
        "colab": {
          "base_uri": "https://localhost:8080/"
        },
        "id": "gRch9ydy9nj3",
        "outputId": "b377d225-3dcb-4c64-e65a-8b961a765ff6"
      },
      "outputs": [
        {
          "name": "stdout",
          "output_type": "stream",
          "text": [
            "Model: \"sequential\"\n",
            "_________________________________________________________________\n",
            " Layer (type)                Output Shape              Param #   \n",
            "=================================================================\n",
            " rescaling (Rescaling)       (None, 180, 180, 3)       0         \n",
            "                                                                 \n",
            " random_flip (RandomFlip)    (None, 180, 180, 3)       0         \n",
            "                                                                 \n",
            " random_rotation (RandomRot  (None, 180, 180, 3)       0         \n",
            " ation)                                                          \n",
            "                                                                 \n",
            " random_zoom (RandomZoom)    (None, 180, 180, 3)       0         \n",
            "                                                                 \n",
            " random_contrast (RandomCon  (None, 180, 180, 3)       0         \n",
            " trast)                                                          \n",
            "                                                                 \n",
            " conv2d (Conv2D)             (None, 180, 180, 16)      448       \n",
            "                                                                 \n",
            " max_pooling2d (MaxPooling2  (None, 90, 90, 16)        0         \n",
            " D)                                                              \n",
            "                                                                 \n",
            " conv2d_1 (Conv2D)           (None, 90, 90, 32)        4640      \n",
            "                                                                 \n",
            " max_pooling2d_1 (MaxPoolin  (None, 45, 45, 32)        0         \n",
            " g2D)                                                            \n",
            "                                                                 \n",
            " conv2d_2 (Conv2D)           (None, 45, 45, 64)        18496     \n",
            "                                                                 \n",
            " max_pooling2d_2 (MaxPoolin  (None, 22, 22, 64)        0         \n",
            " g2D)                                                            \n",
            "                                                                 \n",
            " dropout (Dropout)           (None, 22, 22, 64)        0         \n",
            "                                                                 \n",
            " flatten (Flatten)           (None, 30976)             0         \n",
            "                                                                 \n",
            " dense (Dense)               (None, 128)               3965056   \n",
            "                                                                 \n",
            " dense_1 (Dense)             (None, 5)                 645       \n",
            "                                                                 \n",
            "=================================================================\n",
            "Total params: 3989285 (15.22 MB)\n",
            "Trainable params: 3989285 (15.22 MB)\n",
            "Non-trainable params: 0 (0.00 Byte)\n",
            "_________________________________________________________________\n"
          ]
        }
      ],
      "source": [
        "model.compile(\n",
        "\toptimizer='adam',\n",
        "\tloss=tf.keras.losses.SparseCategoricalCrossentropy(from_logits=True),\n",
        "\tmetrics=['accuracy'])\n",
        "\n",
        "model.summary()"
      ]
    },
    {
      "cell_type": "markdown",
      "metadata": {
        "id": "E6bDe0hV9x3J"
      },
      "source": [
        "Training the model and saving the results:"
      ]
    },
    {
      "cell_type": "code",
      "execution_count": 11,
      "metadata": {
        "colab": {
          "base_uri": "https://localhost:8080/"
        },
        "id": "m-GZY2rV9rIu",
        "outputId": "d1e840f8-bfb1-4669-ff7c-7d2441f308ef"
      },
      "outputs": [
        {
          "name": "stdout",
          "output_type": "stream",
          "text": [
            "Epoch 1/10\n",
            "92/92 [==============================] - 129s 1s/step - loss: 1.0208 - accuracy: 0.5971 - val_loss: 1.0579 - val_accuracy: 0.5926\n",
            "Epoch 2/10\n",
            "92/92 [==============================] - 150s 2s/step - loss: 0.9564 - accuracy: 0.6298 - val_loss: 1.0357 - val_accuracy: 0.5858\n",
            "Epoch 3/10\n",
            "92/92 [==============================] - 131s 1s/step - loss: 0.9015 - accuracy: 0.6492 - val_loss: 0.8763 - val_accuracy: 0.6335\n",
            "Epoch 4/10\n",
            "92/92 [==============================] - 133s 1s/step - loss: 0.8325 - accuracy: 0.6802 - val_loss: 0.9233 - val_accuracy: 0.6594\n",
            "Epoch 5/10\n",
            "92/92 [==============================] - 123s 1s/step - loss: 0.7907 - accuracy: 0.7006 - val_loss: 1.1369 - val_accuracy: 0.5804\n",
            "Epoch 6/10\n",
            "92/92 [==============================] - 124s 1s/step - loss: 0.7584 - accuracy: 0.7074 - val_loss: 0.8338 - val_accuracy: 0.6826\n",
            "Epoch 7/10\n",
            "92/92 [==============================] - 122s 1s/step - loss: 0.7027 - accuracy: 0.7245 - val_loss: 0.8467 - val_accuracy: 0.6553\n",
            "Epoch 8/10\n",
            "92/92 [==============================] - 122s 1s/step - loss: 0.6984 - accuracy: 0.7360 - val_loss: 0.7902 - val_accuracy: 0.6948\n",
            "Epoch 9/10\n",
            "92/92 [==============================] - 121s 1s/step - loss: 0.6809 - accuracy: 0.7337 - val_loss: 0.8078 - val_accuracy: 0.6853\n",
            "Epoch 10/10\n",
            "92/92 [==============================] - 122s 1s/step - loss: 0.6485 - accuracy: 0.7541 - val_loss: 0.7709 - val_accuracy: 0.7098\n",
            "Model is saved.\n"
          ]
        }
      ],
      "source": [
        "epochs = 10\n",
        "history = model.fit(\n",
        "\ttrain_ds,\n",
        "\tvalidation_data=val_ds,\n",
        "\tepochs=epochs)\n",
        "\n",
        "# We can manually save the model weights:\n",
        "model.save_weights('tf_flowers_classification')\n",
        "print('Model is saved.')"
      ]
    },
    {
      "cell_type": "markdown",
      "metadata": {
        "id": "j1d7jov996MN"
      },
      "source": [
        "Last step is to create graphs using 'history' variable containing the accuracy and loss function of model for each epoch:"
      ]
    },
    {
      "cell_type": "code",
      "execution_count": 12,
      "metadata": {
        "colab": {
          "base_uri": "https://localhost:8080/",
          "height": 699
        },
        "id": "f_P8bCCP95eq",
        "outputId": "bba139be-8ccf-47a3-c5d2-a45da237fd2f"
      },
      "outputs": [
        {
          "data": {
            "image/png": "[encoded data removed]",
            "text/plain": [
              "<Figure size 800x800 with 2 Axes>"
            ]
          },
          "metadata": {},
          "output_type": "display_data"
        }
      ],
      "source": [
        "acc = history.history['accuracy']\n",
        "val_acc = history.history['val_accuracy']\n",
        "\n",
        "loss = history.history['loss']\n",
        "val_loss = history.history['val_loss']\n",
        "\n",
        "epochs_range = range(epochs)\n",
        "\n",
        "plt.figure(figsize=(8, 8))\n",
        "plt.subplot(1, 2, 1)\n",
        "plt.plot(epochs_range, acc, label='Training Accuracy')\n",
        "plt.plot(epochs_range, val_acc, label='Validation Accuracy')\n",
        "plt.legend(loc='lower right')\n",
        "plt.title('Training and Validation Accuracy')\n",
        "\n",
        "plt.subplot(1, 2, 2)\n",
        "plt.plot(epochs_range, loss, label='Training Loss')\n",
        "plt.plot(epochs_range, val_loss, label='Validation Loss')\n",
        "plt.legend(loc='upper right')\n",
        "plt.title('Training and Validation Loss')\n",
        "plt.show()"
      ]
    },
    {
      "cell_type": "markdown",
      "metadata": {
        "id": "37d4drl8-9MI"
      },
      "source": [
        "### Using the saved model for prediction.\n",
        "We can use the trained model for prediction, but we can also load the saved weights in another model instance, let's do it:"
      ]
    },
    {
      "cell_type": "code",
      "execution_count": 14,
      "metadata": {
        "colab": {
          "base_uri": "https://localhost:8080/"
        },
        "id": "zXnjvHNN-_zq",
        "outputId": "5b0f7c58-66af-417e-f1eb-5059bad05963"
      },
      "outputs": [
        {
          "data": {
            "text/plain": [
              "<tensorflow.python.checkpoint.checkpoint.CheckpointLoadStatus at 0x799130c07610>"
            ]
          },
          "execution_count": 14,
          "metadata": {},
          "output_type": "execute_result"
        }
      ],
      "source": [
        "# Creating the same model and loading the saved weights\n",
        "model_loaded = Sequential([\n",
        "\tlayers.experimental.preprocessing.Rescaling(1./255, input_shape=(img_height, img_width, 3)),\n",
        "\tlayers.experimental.preprocessing.RandomFlip(\"horizontal\", input_shape=(img_height, img_width, 3)),\n",
        "\tlayers.experimental.preprocessing.RandomRotation(0.1),\n",
        "\tlayers.experimental.preprocessing.RandomZoom(0.1),\n",
        "\tlayers.experimental.preprocessing.RandomContrast(0.2),\n",
        "\tlayers.Conv2D(16, 3, padding='same', activation='relu'),\n",
        "\tlayers.MaxPooling2D(),\n",
        "\tlayers.Conv2D(32, 3, padding='same', activation='relu'),\n",
        "\tlayers.MaxPooling2D(),\n",
        "\tlayers.Conv2D(64, 3, padding='same', activation='relu'),\n",
        "\tlayers.MaxPooling2D(),\n",
        "  layers.Dropout(0.2),\n",
        "\tlayers.Flatten(),\n",
        "\tlayers.Dense(128, activation='relu'),\n",
        "\tlayers.Dense(num_classes)\n",
        "])\n",
        "\n",
        "model_loaded.compile(\n",
        "\toptimizer='adam',\n",
        "\tloss=tf.keras.losses.SparseCategoricalCrossentropy(from_logits=True),\n",
        "\tmetrics=['accuracy'])\n",
        "\n",
        "model_loaded.load_weights('tf_flowers_classification') # use the name of the saved model"
      ]
    },
    {
      "cell_type": "markdown",
      "metadata": {
        "id": "GvZv5STp_ker"
      },
      "source": [
        "Evaluating the model:"
      ]
    },
    {
      "cell_type": "code",
      "execution_count": 16,
      "metadata": {
        "colab": {
          "base_uri": "https://localhost:8080/"
        },
        "id": "9Y_nm5J9_l8P",
        "outputId": "87b89824-5242-4ab5-9eef-d008b789bf2e"
      },
      "outputs": [
        {
          "name": "stdout",
          "output_type": "stream",
          "text": [
            "92/92 - 28s - loss: 0.5306 - accuracy: 0.7943 - 28s/epoch - 301ms/step\n",
            "Loaded model, accuracy: 79.43%\n"
          ]
        }
      ],
      "source": [
        "loss, acc = model_loaded.evaluate(train_ds, verbose=2)\n",
        "print('Loaded model, accuracy: {:5.2f}%'.format(100*acc))"
      ]
    },
    {
      "cell_type": "code",
      "execution_count": 17,
      "metadata": {
        "colab": {
          "base_uri": "https://localhost:8080/"
        },
        "id": "5tU4ldmMEjCn",
        "outputId": "8cf1ace1-423f-4eca-83d2-a4ee17864486"
      },
      "outputs": [
        {
          "name": "stdout",
          "output_type": "stream",
          "text": [
            "92/92 - 29s - loss: 0.5306 - accuracy: 0.7943 - 29s/epoch - 314ms/step\n",
            "Loaded model, accuracy: 79.43%\n"
          ]
        }
      ],
      "source": [
        "loss, acc = model.evaluate(train_ds, verbose=2)\n",
        "print('Loaded model, accuracy: {:5.2f}%'.format(100*acc))\n",
        "# the results are the same"
      ]
    },
    {
      "cell_type": "markdown",
      "metadata": {
        "id": "ffk0wU-O_qKj"
      },
      "source": [
        "For the last step we need to load an image to our directory:"
      ]
    },
    {
      "cell_type": "code",
      "execution_count": 18,
      "metadata": {
        "id": "jYPgs6Y4_rn2"
      },
      "outputs": [],
      "source": [
        "# loading the image (choose a flower image):\n",
        "img = tf.keras.utils.load_img(\"test-image.jpg\", target_size=(img_height, img_width))\n",
        "img_array = tf.keras.utils.img_to_array(img)\n",
        "img_array = tf.expand_dims(img_array, 0)"
      ]
    },
    {
      "cell_type": "markdown",
      "metadata": {
        "id": "2rutx7RR_8Kv"
      },
      "source": [
        "And finally classification step:"
      ]
    },
    {
      "cell_type": "code",
      "execution_count": 20,
      "metadata": {
        "colab": {
          "base_uri": "https://localhost:8080/"
        },
        "id": "hh0B-mva_-LR",
        "outputId": "81d79065-0614-4d81-cd04-19359f7870d8"
      },
      "outputs": [
        {
          "name": "stdout",
          "output_type": "stream",
          "text": [
            "1/1 [==============================] - 0s 32ms/step\n",
            "Picture contain roses (77.26% probability)\n"
          ]
        }
      ],
      "source": [
        "predictions = model.predict(img_array)\n",
        "score =tf.nn.softmax(predictions[0])\n",
        "\n",
        "print(\"Picture contain {} ({:.2f}% probability)\".format(\n",
        "    class_names[np.argmax(score)],\n",
        "    100*np.max(score)\n",
        "))"
      ]
    },
    {
      "cell_type": "markdown",
      "metadata": {
        "id": "5vbtYW4iE3_4"
      },
      "source": [
        "### Summary:\n",
        "The model achieved an accuracy of around 80% within just 10 epochs, which is pretty good for a model with a straightforward architecture."
      ]
    }
  ],
  "metadata": {
    "colab": {
      "provenance": []
    },
    "kernelspec": {
      "display_name": "Python 3",
      "name": "python3"
    },
    "language_info": {
      "codemirror_mode": {
        "name": "ipython",
        "version": 3
      },
      "file_extension": ".py",
      "mimetype": "text/x-python",
      "name": "python",
      "nbconvert_exporter": "python",
      "pygments_lexer": "ipython3",
      "version": "3.9.18"
    }
  },
  "nbformat": 4,
  "nbformat_minor": 0
}
